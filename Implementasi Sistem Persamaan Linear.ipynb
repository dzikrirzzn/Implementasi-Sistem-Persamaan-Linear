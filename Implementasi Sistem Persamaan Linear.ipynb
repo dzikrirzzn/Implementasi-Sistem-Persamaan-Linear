{
  "nbformat": 4,
  "nbformat_minor": 0,
  "metadata": {
    "colab": {
      "provenance": [],
      "authorship_tag": "ABX9TyMjxI8rkDF45n5LfxMFnFxu",
      "include_colab_link": true
    },
    "kernelspec": {
      "name": "python3",
      "display_name": "Python 3"
    },
    "language_info": {
      "name": "python"
    }
  },
  "cells": [
    {
      "cell_type": "markdown",
      "metadata": {
        "id": "view-in-github",
        "colab_type": "text"
      },
      "source": [
        "<a href=\"https://colab.research.google.com/github/dzikrirzzn/Implementasi-Sistem-Persamaan-Linear/blob/main/Implementasi%20Sistem%20Persamaan%20Linear.ipynb\" target=\"_parent\"><img src=\"https://colab.research.google.com/assets/colab-badge.svg\" alt=\"Open In Colab\"/></a>"
      ]
    },
    {
      "cell_type": "markdown",
      "source": [
        "# **Metode Matriks Balikan**"
      ],
      "metadata": {
        "id": "kCmV2oj3hJjE"
      }
    },
    {
      "cell_type": "code",
      "execution_count": null,
      "metadata": {
        "colab": {
          "base_uri": "https://localhost:8080/"
        },
        "id": "Q1TaS7DQc2_4",
        "outputId": "73cff885-765c-4791-b8f6-4767bc14ec0b"
      },
      "outputs": [
        {
          "output_type": "stream",
          "name": "stdout",
          "text": [
            "Inverse of A:\n",
            "[[-24.  18.   5.]\n",
            " [ 20. -15.  -4.]\n",
            " [ -5.   4.   1.]]\n"
          ]
        }
      ],
      "source": [
        "import numpy as np\n",
        "\n",
        "def inverse_matrix_method(A):\n",
        "    \"\"\"\n",
        "    Compute the inverse of a square matrix A using NumPy.\n",
        "\n",
        "    Parameters:\n",
        "    A : numpy.ndarray\n",
        "        The square matrix.\n",
        "\n",
        "    Returns:\n",
        "    numpy.ndarray or None\n",
        "        The inverse of the matrix A if it exists, None otherwise.\n",
        "    \"\"\"\n",
        "    # Check if A is square\n",
        "    if A.shape[0] != A.shape[1]:\n",
        "        print(\"Error: Input matrix is not square.\")\n",
        "        return None\n",
        "\n",
        "    # Compute the determinant\n",
        "    det = np.linalg.det(A)\n",
        "\n",
        "    # Check if the determinant is zero (non-invertible matrix)\n",
        "    if np.isclose(det, 0):\n",
        "        print(\"Error: Matrix is singular (non-invertible).\")\n",
        "        return None\n",
        "\n",
        "    # Compute the inverse\n",
        "    A_inv = np.linalg.inv(A)\n",
        "\n",
        "    return A_inv\n",
        "\n",
        "# Example usage:\n",
        "A = np.array([[1, 2, 3],\n",
        "              [0, 1, 4],\n",
        "              [5, 6, 0]])\n",
        "\n",
        "A_inv = inverse_matrix_method(A)\n",
        "if A_inv is not None:\n",
        "    print(\"Inverse of A:\")\n",
        "    print(A_inv)\n"
      ]
    },
    {
      "cell_type": "markdown",
      "source": [
        "### **Metode Dekomposisi LU Gauss**\n"
      ],
      "metadata": {
        "id": "RAzgY-QYhSoQ"
      }
    },
    {
      "cell_type": "code",
      "source": [
        "import numpy as np\n",
        "\n",
        "def lu_decomposition_gauss(A):\n",
        "    \"\"\"\n",
        "    Perform LU decomposition of a square matrix A using Gaussian elimination.\n",
        "\n",
        "    Parameters:\n",
        "    A : numpy.ndarray\n",
        "        The square matrix.\n",
        "\n",
        "    Returns:\n",
        "    L : numpy.ndarray\n",
        "        Lower triangular matrix of the LU decomposition.\n",
        "    U : numpy.ndarray\n",
        "        Upper triangular matrix of the LU decomposition.\n",
        "    \"\"\"\n",
        "    n = A.shape[0]\n",
        "    # Initialize L as an identity matrix and U as a copy of A\n",
        "    L = np.eye(n)\n",
        "    U = A.astype(float)  # Convert to float\n",
        "\n",
        "    for k in range(n-1):  # Forward elimination\n",
        "        for i in range(k+1, n):\n",
        "            factor = U[i, k] / U[k, k]\n",
        "            L[i, k] = factor\n",
        "            U[i, k:] -= factor * U[k, k:]\n",
        "\n",
        "    return L, U\n",
        "\n",
        "# Example usage:\n",
        "A = np.array([[2, -1,  0],\n",
        "              [-1,  2, -1],\n",
        "              [0, -1,  2]])\n",
        "\n",
        "L, U = lu_decomposition_gauss(A)\n",
        "print(\"L:\")\n",
        "print(L)\n",
        "print(\"U:\")\n",
        "print(U)"
      ],
      "metadata": {
        "colab": {
          "base_uri": "https://localhost:8080/"
        },
        "id": "ekghMDWze8ku",
        "outputId": "6ca47b4c-8d8c-421e-cbaa-18393021a8b6"
      },
      "execution_count": null,
      "outputs": [
        {
          "output_type": "stream",
          "name": "stdout",
          "text": [
            "L:\n",
            "[[ 1.          0.          0.        ]\n",
            " [-0.5         1.          0.        ]\n",
            " [ 0.         -0.66666667  1.        ]]\n",
            "U:\n",
            "[[ 2.         -1.          0.        ]\n",
            " [ 0.          1.5        -1.        ]\n",
            " [ 0.          0.          1.33333333]]\n"
          ]
        }
      ]
    },
    {
      "cell_type": "markdown",
      "source": [
        "### **Metode Dekomposisi Crout**"
      ],
      "metadata": {
        "id": "k75N3Rimhc5G"
      }
    },
    {
      "cell_type": "code",
      "source": [
        "import numpy as np\n",
        "\n",
        "def lu_decomposition_crout(A):\n",
        "    \"\"\"\n",
        "    Perform LU decomposition of a square matrix A using Crout's method.\n",
        "\n",
        "    Parameters:\n",
        "    A : numpy.ndarray\n",
        "        The square matrix.\n",
        "\n",
        "    Returns:\n",
        "    L : numpy.ndarray\n",
        "        Lower triangular matrix of the LU decomposition.\n",
        "    U : numpy.ndarray\n",
        "        Upper triangular matrix of the LU decomposition.\n",
        "    \"\"\"\n",
        "    n = A.shape[0]\n",
        "    L = np.zeros((n, n))\n",
        "    U = np.zeros((n, n))\n",
        "\n",
        "    for j in range(n):\n",
        "        L[j, j] = 1  # Set diagonal of L to 1\n",
        "        for i in range(j, n):\n",
        "            U[j, i] = A[j, i] - np.dot(L[j, :j], U[:j, i])\n",
        "        for i in range(j+1, n):\n",
        "            L[i, j] = (A[i, j] - np.dot(L[i, :j], U[:j, j])) / U[j, j]\n",
        "\n",
        "    return L, U\n",
        "\n",
        "# Example usage:\n",
        "A = np.array([[2, -1,  0],\n",
        "              [-1,  2, -1],\n",
        "              [0, -1,  2]])\n",
        "\n",
        "L, U = lu_decomposition_crout(A)\n",
        "print(\"L:\")\n",
        "print(L)\n",
        "print(\"U:\")\n",
        "print(U)\n"
      ],
      "metadata": {
        "colab": {
          "base_uri": "https://localhost:8080/"
        },
        "id": "iryaKJV-feiI",
        "outputId": "8532c7f3-adcc-4017-a6c4-0f7c5e0a7a70"
      },
      "execution_count": null,
      "outputs": [
        {
          "output_type": "stream",
          "name": "stdout",
          "text": [
            "L:\n",
            "[[ 1.          0.          0.        ]\n",
            " [-0.5         1.          0.        ]\n",
            " [ 0.         -0.66666667  1.        ]]\n",
            "U:\n",
            "[[ 2.         -1.          0.        ]\n",
            " [ 0.          1.5        -1.        ]\n",
            " [ 0.          0.          1.33333333]]\n"
          ]
        }
      ]
    }
  ]
}